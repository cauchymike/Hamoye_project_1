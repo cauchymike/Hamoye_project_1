{
 "cells": [
  {
   "cell_type": "code",
   "execution_count": 1,
   "metadata": {},
   "outputs": [],
   "source": [
    "#importing neccesary libraries\n",
    "import pandas as pd\n",
    "import requests\n",
    "import numpy as np"
   ]
  },
  {
   "cell_type": "code",
   "execution_count": 2,
   "metadata": {},
   "outputs": [],
   "source": [
    "#getting the dataset from the github link given\n",
    "url = 'https://raw.githubusercontent.com/WalePhenomenon/climate_change/master/fuel_ferc1.csv'\n",
    "request = requests.get(url)\n",
    "content_of_url = request.content\n",
    "data_csv = open('dataset.csv', 'wb')\n",
    "data_csv.write(content_of_url)\n",
    "data_csv.close()"
   ]
  },
  {
   "cell_type": "code",
   "execution_count": 3,
   "metadata": {},
   "outputs": [],
   "source": [
    "#reading the dataset with pandas\n",
    "data_hamoye = pd.read_csv('dataset.csv')"
   ]
  },
  {
   "cell_type": "markdown",
   "metadata": {},
   "source": [
    "# Question 1"
   ]
  },
  {
   "cell_type": "code",
   "execution_count": null,
   "metadata": {},
   "outputs": [],
   "source": []
  },
  {
   "cell_type": "markdown",
   "metadata": {},
   "source": [
    "# Question 2"
   ]
  },
  {
   "cell_type": "code",
   "execution_count": null,
   "metadata": {},
   "outputs": [],
   "source": []
  },
  {
   "cell_type": "markdown",
   "metadata": {},
   "source": [
    "# Question 3"
   ]
  },
  {
   "cell_type": "code",
   "execution_count": 4,
   "metadata": {},
   "outputs": [],
   "source": [
    "def max_fuel_cost(df, cat_column):\n",
    "    \"\"\"This function takes a dataframe and a string of categorical column\"\"\"\n",
    "    data = data_hamoye.groupby(cat_column)\n",
    "    #defining the aggregation dictionary of the function we want to perform in groups\n",
    "    aggregation = ({'fuel_cost_per_unit_burned': 'mean'})\n",
    "    #implenting the aggregation\n",
    "    max_fuel = data.agg(aggregation)\n",
    "    return max_fuel.nsmallest(1, 'fuel_cost_per_unit_burned')"
   ]
  },
  {
   "cell_type": "code",
   "execution_count": 5,
   "metadata": {},
   "outputs": [
    {
     "data": {
      "text/html": [
       "<div>\n",
       "<style scoped>\n",
       "    .dataframe tbody tr th:only-of-type {\n",
       "        vertical-align: middle;\n",
       "    }\n",
       "\n",
       "    .dataframe tbody tr th {\n",
       "        vertical-align: top;\n",
       "    }\n",
       "\n",
       "    .dataframe thead th {\n",
       "        text-align: right;\n",
       "    }\n",
       "</style>\n",
       "<table border=\"1\" class=\"dataframe\">\n",
       "  <thead>\n",
       "    <tr style=\"text-align: right;\">\n",
       "      <th></th>\n",
       "      <th>fuel_cost_per_unit_burned</th>\n",
       "    </tr>\n",
       "    <tr>\n",
       "      <th>fuel_type_code_pudl</th>\n",
       "      <th></th>\n",
       "    </tr>\n",
       "  </thead>\n",
       "  <tbody>\n",
       "    <tr>\n",
       "      <th>gas</th>\n",
       "      <td>13.659397</td>\n",
       "    </tr>\n",
       "  </tbody>\n",
       "</table>\n",
       "</div>"
      ],
      "text/plain": [
       "                     fuel_cost_per_unit_burned\n",
       "fuel_type_code_pudl                           \n",
       "gas                                  13.659397"
      ]
     },
     "execution_count": 5,
     "metadata": {},
     "output_type": "execute_result"
    }
   ],
   "source": [
    "max_fuel_cost(data_hamoye, 'fuel_type_code_pudl')"
   ]
  },
  {
   "cell_type": "markdown",
   "metadata": {},
   "source": [
    "# Question 4"
   ]
  },
  {
   "cell_type": "code",
   "execution_count": 6,
   "metadata": {},
   "outputs": [],
   "source": [
    "def std_perc(df, column):\n",
    "    \"\"\"This function will take a dataframe and a particular string of column name\n",
    "    it will return the standard deviation and 75th percentile for the column\n",
    "    \"\"\"\n",
    "    std_col = df.loc[:, column].std()\n",
    "    perc_col = np.percentile(df.loc[:, column], 75)\n",
    "    return (f\"standard deviation is:{round(std_col, 2)} and 75th percentile is: {round(perc_col, 2)}\")"
   ]
  },
  {
   "cell_type": "code",
   "execution_count": 7,
   "metadata": {},
   "outputs": [
    {
     "data": {
      "text/plain": [
       "'standard deviation is:10.6 and 75th percentile is: 17.01'"
      ]
     },
     "execution_count": 7,
     "metadata": {},
     "output_type": "execute_result"
    }
   ],
   "source": [
    "std_perc(data_hamoye, 'fuel_mmbtu_per_unit')"
   ]
  },
  {
   "cell_type": "markdown",
   "metadata": {},
   "source": [
    "# Question 5"
   ]
  },
  {
   "cell_type": "code",
   "execution_count": 8,
   "metadata": {},
   "outputs": [],
   "source": [
    "def kurt_skew(df, num_column):\n",
    "    \"\"\"This function takes a dataframe and a string of numerical column\n",
    "    it will return the kurtosis and the skewness of the numerical column\n",
    "    \"\"\"\n",
    "    kurt_col = df.loc[:, num_column].kurt()\n",
    "    skew_col = df.loc[:, num_column].skew()\n",
    "    return(f\"The kurtosis is: {round(kurt_col, 2)} and the skewness is: {round(skew_col, 2)}\")\n",
    "    "
   ]
  },
  {
   "cell_type": "code",
   "execution_count": 9,
   "metadata": {},
   "outputs": [
    {
     "data": {
      "text/plain": [
       "'The kurtosis is: 651.37 and the skewness is: 15.85'"
      ]
     },
     "execution_count": 9,
     "metadata": {},
     "output_type": "execute_result"
    }
   ],
   "source": [
    "kurt_skew(data_hamoye, 'fuel_qty_burned')"
   ]
  },
  {
   "cell_type": "markdown",
   "metadata": {},
   "source": [
    "# Question 6"
   ]
  },
  {
   "cell_type": "code",
   "execution_count": 13,
   "metadata": {},
   "outputs": [],
   "source": [
    "def missing_values(dataframe):\n",
    "    \"\"\"\n",
    "    This function takes a dataframe as input and returns two columns... total missing values and their percentage\n",
    "    \"\"\"\n",
    "    total = dataframe.isnull().sum().sort_values(ascending = False)\n",
    "    percent = round(total/len(dataframe)*100, 3)\n",
    "    return pd.concat([total, percent], axis = 1, keys = ['Total Missing', '%Percentage'])"
   ]
  },
  {
   "cell_type": "code",
   "execution_count": 14,
   "metadata": {},
   "outputs": [
    {
     "data": {
      "text/html": [
       "<div>\n",
       "<style scoped>\n",
       "    .dataframe tbody tr th:only-of-type {\n",
       "        vertical-align: middle;\n",
       "    }\n",
       "\n",
       "    .dataframe tbody tr th {\n",
       "        vertical-align: top;\n",
       "    }\n",
       "\n",
       "    .dataframe thead th {\n",
       "        text-align: right;\n",
       "    }\n",
       "</style>\n",
       "<table border=\"1\" class=\"dataframe\">\n",
       "  <thead>\n",
       "    <tr style=\"text-align: right;\">\n",
       "      <th></th>\n",
       "      <th>Total Missing</th>\n",
       "      <th>%Percentage</th>\n",
       "    </tr>\n",
       "  </thead>\n",
       "  <tbody>\n",
       "    <tr>\n",
       "      <th>fuel_unit</th>\n",
       "      <td>180</td>\n",
       "      <td>0.61</td>\n",
       "    </tr>\n",
       "    <tr>\n",
       "      <th>fuel_cost_per_mmbtu</th>\n",
       "      <td>0</td>\n",
       "      <td>0.00</td>\n",
       "    </tr>\n",
       "    <tr>\n",
       "      <th>fuel_cost_per_unit_delivered</th>\n",
       "      <td>0</td>\n",
       "      <td>0.00</td>\n",
       "    </tr>\n",
       "    <tr>\n",
       "      <th>fuel_cost_per_unit_burned</th>\n",
       "      <td>0</td>\n",
       "      <td>0.00</td>\n",
       "    </tr>\n",
       "    <tr>\n",
       "      <th>fuel_mmbtu_per_unit</th>\n",
       "      <td>0</td>\n",
       "      <td>0.00</td>\n",
       "    </tr>\n",
       "  </tbody>\n",
       "</table>\n",
       "</div>"
      ],
      "text/plain": [
       "                              Total Missing  %Percentage\n",
       "fuel_unit                               180         0.61\n",
       "fuel_cost_per_mmbtu                       0         0.00\n",
       "fuel_cost_per_unit_delivered              0         0.00\n",
       "fuel_cost_per_unit_burned                 0         0.00\n",
       "fuel_mmbtu_per_unit                       0         0.00"
      ]
     },
     "execution_count": 14,
     "metadata": {},
     "output_type": "execute_result"
    }
   ],
   "source": [
    "df = missing_values(data_hamoye)\n",
    "df.head()"
   ]
  },
  {
   "cell_type": "code",
   "execution_count": 15,
   "metadata": {},
   "outputs": [
    {
     "data": {
      "text/plain": [
       "Total Missing    180.00\n",
       "%Percentage        0.61\n",
       "Name: fuel_unit, dtype: float64"
      ]
     },
     "execution_count": 15,
     "metadata": {},
     "output_type": "execute_result"
    }
   ],
   "source": [
    "df.iloc[0]"
   ]
  },
  {
   "cell_type": "markdown",
   "metadata": {},
   "source": [
    "# Question 8"
   ]
  },
  {
   "cell_type": "code",
   "execution_count": 18,
   "metadata": {},
   "outputs": [
    {
     "name": "stdout",
     "output_type": "stream",
     "text": [
      "features with the lowest correlation with the fuel_cost_per_unit_burned : \n",
      "utility_id_ferc1      -0.037863\n",
      "fuel_qty_burned       -0.018535\n",
      "fuel_mmbtu_per_unit   -0.010034\n",
      "Name: fuel_cost_per_unit_burned, dtype: float64\n"
     ]
    }
   ],
   "source": [
    "corr_num = data_hamoye.corr()\n",
    "print('features with the lowest correlation with the fuel_cost_per_unit_burned : ')\n",
    "print(corr_num.nsmallest(3, 'fuel_cost_per_unit_burned')['fuel_cost_per_unit_burned'])"
   ]
  },
  {
   "cell_type": "markdown",
   "metadata": {},
   "source": [
    "# Question 9"
   ]
  },
  {
   "cell_type": "code",
   "execution_count": 20,
   "metadata": {},
   "outputs": [],
   "source": [
    "#lets make an aggregation dictionary of functions we want to perform in groups \n",
    "aggregations = ({'fuel_cost_per_unit_burned': sum,})#mum of fuel_cost_per_unit_burned in each group\n",
    "#getting the groups\n",
    "perc = data_hamoye.groupby(['report_year', 'fuel_type_code_pudl'])\n",
    "perc_a = perc.get_group((1998, 'coal')) #i will use this one to get the total sum of fcpbb belongin to coal in 1998\n",
    "perc_b = perc.get_group((1994, 'coal')) #i will use this to find the total sum of fcpb belonging to  in 1994\n",
    "\n",
    "#applying aggregation to each of the groups\n",
    "perc_a1 = perc_a.agg(aggregations)#will give the sum of qty for 114 in 1994\n",
    "perc_b1 = perc_b.agg(aggregations)"
   ]
  },
  {
   "cell_type": "markdown",
   "metadata": {},
   "source": [
    "### Recall that percentage change is given by $\\text{percent change} = \\frac{\\text{New value} - \\text{old value}}{\\text{old value}}\\times 100$"
   ]
  },
  {
   "cell_type": "code",
   "execution_count": 21,
   "metadata": {},
   "outputs": [
    {
     "data": {
      "text/plain": [
       "fuel_cost_per_unit_burned   -20.567655\n",
       "dtype: float64"
      ]
     },
     "execution_count": 21,
     "metadata": {},
     "output_type": "execute_result"
    }
   ],
   "source": [
    "perc_diff = ((perc_a1 - perc_b1)/perc_b1)*100\n",
    "perc_diff"
   ]
  },
  {
   "cell_type": "markdown",
   "metadata": {},
   "source": [
    "# Question 10"
   ]
  },
  {
   "cell_type": "code",
   "execution_count": 25,
   "metadata": {},
   "outputs": [
    {
     "data": {
      "text/html": [
       "<div>\n",
       "<style scoped>\n",
       "    .dataframe tbody tr th:only-of-type {\n",
       "        vertical-align: middle;\n",
       "    }\n",
       "\n",
       "    .dataframe tbody tr th {\n",
       "        vertical-align: top;\n",
       "    }\n",
       "\n",
       "    .dataframe thead th {\n",
       "        text-align: right;\n",
       "    }\n",
       "</style>\n",
       "<table border=\"1\" class=\"dataframe\">\n",
       "  <thead>\n",
       "    <tr style=\"text-align: right;\">\n",
       "      <th></th>\n",
       "      <th>fuel_cost_per_unit_delivered</th>\n",
       "    </tr>\n",
       "    <tr>\n",
       "      <th>report_year</th>\n",
       "      <th></th>\n",
       "    </tr>\n",
       "  </thead>\n",
       "  <tbody>\n",
       "    <tr>\n",
       "      <th>1997</th>\n",
       "      <td>11140.197239</td>\n",
       "    </tr>\n",
       "  </tbody>\n",
       "</table>\n",
       "</div>"
      ],
      "text/plain": [
       "             fuel_cost_per_unit_delivered\n",
       "report_year                              \n",
       "1997                         11140.197239"
      ]
     },
     "execution_count": 25,
     "metadata": {},
     "output_type": "execute_result"
    }
   ],
   "source": [
    "#getting the groups\n",
    "rep = data_hamoye.groupby(['report_year'])\n",
    "aggregations = ({'fuel_cost_per_unit_delivered': 'mean',})\n",
    "hig = rep.agg(aggregations)\n",
    "highest_fuel = hig.nlargest(1, 'fuel_cost_per_unit_delivered')\n",
    "highest_fuel"
   ]
  },
  {
   "cell_type": "code",
   "execution_count": null,
   "metadata": {},
   "outputs": [],
   "source": []
  }
 ],
 "metadata": {
  "kernelspec": {
   "display_name": "Python 3",
   "language": "python",
   "name": "python3"
  },
  "language_info": {
   "codemirror_mode": {
    "name": "ipython",
    "version": 3
   },
   "file_extension": ".py",
   "mimetype": "text/x-python",
   "name": "python",
   "nbconvert_exporter": "python",
   "pygments_lexer": "ipython3",
   "version": "3.7.6"
  }
 },
 "nbformat": 4,
 "nbformat_minor": 4
}
